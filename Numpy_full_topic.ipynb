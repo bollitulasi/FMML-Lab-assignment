{
  "nbformat": 4,
  "nbformat_minor": 0,
  "metadata": {
    "colab": {
      "provenance": [],
      "authorship_tag": "ABX9TyOtCn84YowsZgMG90FtoHUh"
    },
    "kernelspec": {
      "name": "python3",
      "display_name": "Python 3"
    },
    "language_info": {
      "name": "python"
    }
  },
  "cells": [
    {
      "cell_type": "markdown",
      "source": [
        "** CONTENT**\n",
        "\n",
        "*introductio to numpy\n",
        "*installlation of numpy\n",
        "*importing numpy\n",
        "* creating array\n",
        "*initialization of array\n",
        "*array properties\n",
        "*array operations\n",
        "* array functions"
      ],
      "metadata": {
        "id": "jwdIb66r_iY5"
      }
    },
    {
      "cell_type": "markdown",
      "source": [
        "              CREATING ARRAYS  \n",
        "            \n",
        "      *array()\n",
        "          .0 dimensinal aray\n",
        "          .1 dimensiona array\n",
        "          .2 dimensional arrray\n",
        "          .3 dimensional array\n",
        "       *as array()withnditer()\n",
        "       *frombuffer()\n",
        "       *fromiter()"
      ],
      "metadata": {
        "id": "8PoHtF5QBHYX"
      }
    },
    {
      "cell_type": "code",
      "source": [
        "import numpy  as np\n"
      ],
      "metadata": {
        "id": "2wk-fqaDEkTg"
      },
      "execution_count": 1,
      "outputs": []
    },
    {
      "cell_type": "code",
      "source": [
        "a=np.array(10)\n",
        "print(a)\n",
        "#0 dimensional array"
      ],
      "metadata": {
        "colab": {
          "base_uri": "https://localhost:8080/"
        },
        "id": "mrjDE6d5Fal1",
        "outputId": "b4365dc8-dc02-473a-df89-adc9ca4d7076"
      },
      "execution_count": 3,
      "outputs": [
        {
          "output_type": "stream",
          "name": "stdout",
          "text": [
            "10\n"
          ]
        }
      ]
    },
    {
      "cell_type": "code",
      "source": [
        "a=np.array([10,20,30])\n",
        "print(a)#1 dimensional array"
      ],
      "metadata": {
        "colab": {
          "base_uri": "https://localhost:8080/"
        },
        "id": "7vuqTN3JFanS",
        "outputId": "fa73aa0b-7652-4f3d-f7eb-403db8775ee8"
      },
      "execution_count": 11,
      "outputs": [
        {
          "output_type": "stream",
          "name": "stdout",
          "text": [
            "[10 20 30]\n"
          ]
        }
      ]
    },
    {
      "cell_type": "code",
      "source": [],
      "metadata": {
        "id": "oN_uhyxGH9ov"
      },
      "execution_count": null,
      "outputs": []
    }
  ]
}